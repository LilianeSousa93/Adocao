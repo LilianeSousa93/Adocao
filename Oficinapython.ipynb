{
  "nbformat": 4,
  "nbformat_minor": 0,
  "metadata": {
    "colab": {
      "provenance": [],
      "authorship_tag": "ABX9TyMLOKnAHWQxyl+DCI7Tcn5R",
      "include_colab_link": true
    },
    "kernelspec": {
      "name": "python3",
      "display_name": "Python 3"
    },
    "language_info": {
      "name": "python"
    }
  },
  "cells": [
    {
      "cell_type": "markdown",
      "metadata": {
        "id": "view-in-github",
        "colab_type": "text"
      },
      "source": [
        "<a href=\"https://colab.research.google.com/github/LilianeSousa93/Adocao/blob/main/Oficinapython.ipynb\" target=\"_parent\"><img src=\"https://colab.research.google.com/assets/colab-badge.svg\" alt=\"Open In Colab\"/></a>"
      ]
    },
    {
      "cell_type": "code",
      "execution_count": 1,
      "metadata": {
        "colab": {
          "base_uri": "https://localhost:8080/"
        },
        "id": "6BMbPOFY5mr9",
        "outputId": "0216f0eb-6a9c-4755-c318-8dd4bcdc91ee"
      },
      "outputs": [
        {
          "output_type": "stream",
          "name": "stdout",
          "text": [
            "Olá mundo!\n"
          ]
        }
      ],
      "source": [
        "print(\"Olá mundo!\")"
      ]
    },
    {
      "cell_type": "code",
      "source": [
        "n1=10\n",
        "n2=5\n",
        "soma=n1+n2\n",
        "print(f'O resultado da soma é {soma}')"
      ],
      "metadata": {
        "colab": {
          "base_uri": "https://localhost:8080/"
        },
        "id": "PlCXYps57mle",
        "outputId": "1a16e646-cce2-4abb-f6a5-f13a965cec7d"
      },
      "execution_count": 2,
      "outputs": [
        {
          "output_type": "stream",
          "name": "stdout",
          "text": [
            "O resultado da soma é 15\n"
          ]
        }
      ]
    },
    {
      "cell_type": "code",
      "source": [
        "nome1='Talita'\n",
        "nome2='Luciana'\n",
        "nome=nome1+nome2\n",
        "print(nome)"
      ],
      "metadata": {
        "colab": {
          "base_uri": "https://localhost:8080/"
        },
        "id": "N9-fZsyK8gWd",
        "outputId": "0bf25667-2763-48cc-aa7c-2faceb136217"
      },
      "execution_count": 3,
      "outputs": [
        {
          "output_type": "stream",
          "name": "stdout",
          "text": [
            "TalitaLuciana\n"
          ]
        }
      ]
    },
    {
      "cell_type": "code",
      "source": [
        "nome1='Talita'\n",
        "nome2='Luciana'\n",
        "nome=nome1+nome2\n",
        "print(f'Nome 1= {nome1}, Nome2= {nome2}, Nome conectado= {nome}')"
      ],
      "metadata": {
        "colab": {
          "base_uri": "https://localhost:8080/"
        },
        "id": "ETq_LHxh9bX1",
        "outputId": "fd279b87-4115-4af5-ff96-1c910f00f28e"
      },
      "execution_count": 4,
      "outputs": [
        {
          "output_type": "stream",
          "name": "stdout",
          "text": [
            "Nome 1= Talita, Nome2= Luciana, Nome conectado= TalitaLuciana\n"
          ]
        }
      ]
    },
    {
      "cell_type": "code",
      "source": [
        "nome =str(input('Qual o seu nome?\\n'))\n",
        "id=int(input('Qual a sua idade?\\n'))\n",
        "peso=float(input('Qual o seu peso?\\n'))\n",
        "ge=str(input('Qual o seu gênero?\\n'))\n",
        "\n",
        "print(f'Nome: {nome}, Idade: {id}, Peso: {peso}, e Gênero: {ge}')"
      ],
      "metadata": {
        "colab": {
          "base_uri": "https://localhost:8080/"
        },
        "id": "saQmkeWb-Qij",
        "outputId": "8d9f63e9-2070-4d3f-b022-126dbf58eac8"
      },
      "execution_count": 5,
      "outputs": [
        {
          "output_type": "stream",
          "name": "stdout",
          "text": [
            "Qual o seu nome?\n",
            "Liliane\n",
            "Qual a sua idade?\n",
            "30\n",
            "Qual o seu peso?\n",
            "62\n",
            "Qual o seu gênero?\n",
            "f\n",
            "Nome: Liliane, Idade: 30, Peso: 62.0, e Gênero: f\n"
          ]
        }
      ]
    },
    {
      "cell_type": "code",
      "source": [
        "n1=float(input('N1: '))\n",
        "n2=float(input('N2: '))\n",
        "\n",
        "print(f'Soma é {n1+n2}\\n')\n",
        "print(f'Subtração é {n1-n2}\\n')\n",
        "print(f'Multiplicação é {n1*n2}\\n')\n",
        "print(f'Divisão é {n1/n2}\\n')"
      ],
      "metadata": {
        "colab": {
          "base_uri": "https://localhost:8080/"
        },
        "id": "VgUqd1iwADQZ",
        "outputId": "c9bfd223-ef42-4b93-c8f4-ca205f971f34"
      },
      "execution_count": 6,
      "outputs": [
        {
          "output_type": "stream",
          "name": "stdout",
          "text": [
            "N1: 2\n",
            "N2: 3\n",
            "Soma é 5.0\n",
            "\n",
            "Subtração é -1.0\n",
            "\n",
            "Multiplicação é 6.0\n",
            "\n",
            "Divisão é 0.6666666666666666\n",
            "\n"
          ]
        }
      ]
    },
    {
      "cell_type": "code",
      "source": [
        "sal=float(input('Qual o seu salário?\\n'))\n",
        "print(f'Seu novo salário é R$ {sal+(sal*0.25):.2f}')"
      ],
      "metadata": {
        "colab": {
          "base_uri": "https://localhost:8080/"
        },
        "id": "7fFxGNQYFQ_S",
        "outputId": "40586818-d20e-47c7-87e0-3ba34e7c3c3a"
      },
      "execution_count": 7,
      "outputs": [
        {
          "output_type": "stream",
          "name": "stdout",
          "text": [
            "Qual o seu salário?\n",
            "1500\n",
            "Seu novo salário é R$ 1875.00\n"
          ]
        }
      ]
    },
    {
      "cell_type": "code",
      "source": [
        "import math\n",
        "n=float(input('Digite um número: '))\n",
        "\n",
        "print(f'O numero {n} ao quadrado é {n**2}')\n",
        "print(f'O numero {n} ao cubo é {pow(n,3)}')\n",
        "print(f'A raiz quadrada do número {n} é {math.sqrt(n):.2f}')\n",
        "print(f'A raiz cúbica ddo número {n} é {pow(n,1/3):.2f}')"
      ],
      "metadata": {
        "colab": {
          "base_uri": "https://localhost:8080/"
        },
        "id": "VQEcSeUTHb-J",
        "outputId": "0807bb3a-5619-4156-869d-7b12b17a36d9"
      },
      "execution_count": 8,
      "outputs": [
        {
          "output_type": "stream",
          "name": "stdout",
          "text": [
            "Digite um número: 2\n",
            "O numero 2.0 ao quadrado é 4.0\n",
            "O numero 2.0 ao cubo é 8.0\n",
            "A raiz quadrada do número 2.0 é 1.41\n",
            "A raiz cúbica ddo número 2.0 é 1.26\n"
          ]
        }
      ]
    },
    {
      "cell_type": "code",
      "source": [
        "import math\n",
        "\n",
        "raio=float(input('Raio: '))\n",
        "\n",
        "print(f'\\nA área da circunferência é {math.pi * raio**2:.2f}')"
      ],
      "metadata": {
        "colab": {
          "base_uri": "https://localhost:8080/"
        },
        "id": "Q9q0I-f4MDCe",
        "outputId": "d4e9c15d-8223-4105-da8c-1d25ea4cc931"
      },
      "execution_count": 9,
      "outputs": [
        {
          "output_type": "stream",
          "name": "stdout",
          "text": [
            "Raio: 2\n",
            "\n",
            "A área da circunferência é 12.57\n"
          ]
        }
      ]
    },
    {
      "cell_type": "code",
      "source": [
        "id=int(input('Digite sua idade: '))\n",
        "if id>=18:\n",
        "  print('\\nVocê é maior de idade')\n",
        "else:\n",
        "  print('\\nVocê é menor de idade')"
      ],
      "metadata": {
        "colab": {
          "base_uri": "https://localhost:8080/"
        },
        "id": "UJ3NkeJSOOQs",
        "outputId": "90e88247-956d-4ce0-ab5e-3b84478fcbeb"
      },
      "execution_count": 10,
      "outputs": [
        {
          "output_type": "stream",
          "name": "stdout",
          "text": [
            "Digite sua idade: 30\n",
            "\n",
            "Você é maior de idade\n"
          ]
        }
      ]
    },
    {
      "cell_type": "code",
      "source": [
        "a=float(input('Lado A: '))\n",
        "b=float(input('Lado B: '))\n",
        "c=float(input('Lado C: '))\n",
        "\n",
        "if a==b and b==c:\n",
        "  print('\\nTriãngulo Equilátero')\n",
        "elif a==b or b==c or a==c:\n",
        "  print('\\nTriângulo Isóceles')\n",
        "else:\n",
        "  print('\\nTriângulo Escaleno')"
      ],
      "metadata": {
        "colab": {
          "base_uri": "https://localhost:8080/"
        },
        "id": "uGqabMD7PmJt",
        "outputId": "2cba118a-78b0-4ede-df5a-814d6cbaee69"
      },
      "execution_count": 11,
      "outputs": [
        {
          "output_type": "stream",
          "name": "stdout",
          "text": [
            "Lado A: 2\n",
            "Lado B: 3\n",
            "Lado C: 2\n",
            "\n",
            "Triângulo Isóceles\n"
          ]
        }
      ]
    },
    {
      "cell_type": "code",
      "source": [
        "n1=float(input('N1: '))\n",
        "op=str(input('+,-,*, ou /: '))\n",
        "n2=float(input('N2: '))\n",
        "\n",
        "if op=='+' or op=='-' or op=='*' or op=='/':\n",
        "  if op== '+':\n",
        "    print(f'Soma {n1+n2}')\n",
        "  elif op== '-':\n",
        "    print(f'Subtração {n1-n2}')\n",
        "  elif op=='*':\n",
        "    print(f'Multiplicação {n1*n2}')\n",
        "  else:\n",
        "    print(f'Divisão: {n1/n2}')\n",
        "else:\n",
        "  print('\\nOperador inválido')\n"
      ],
      "metadata": {
        "colab": {
          "base_uri": "https://localhost:8080/"
        },
        "id": "6lAomfU9OnAP",
        "outputId": "24c0d142-c15e-4fda-e260-21ffe9e948ef"
      },
      "execution_count": 12,
      "outputs": [
        {
          "output_type": "stream",
          "name": "stdout",
          "text": [
            "N1: 2\n",
            "+,-,*, ou /: +\n",
            "N2: 2\n",
            "Soma 4.0\n"
          ]
        }
      ]
    },
    {
      "cell_type": "code",
      "source": [
        "for i in range(11):\n",
        "  print(i)"
      ],
      "metadata": {
        "colab": {
          "base_uri": "https://localhost:8080/"
        },
        "id": "hXg1UTYqaDX3",
        "outputId": "9a930ecd-cb33-487d-8fc7-ed389569d826"
      },
      "execution_count": 13,
      "outputs": [
        {
          "output_type": "stream",
          "name": "stdout",
          "text": [
            "0\n",
            "1\n",
            "2\n",
            "3\n",
            "4\n",
            "5\n",
            "6\n",
            "7\n",
            "8\n",
            "9\n",
            "10\n"
          ]
        }
      ]
    },
    {
      "cell_type": "code",
      "source": [
        "for i in range(11):\n",
        "  print(i,end=' ')"
      ],
      "metadata": {
        "colab": {
          "base_uri": "https://localhost:8080/"
        },
        "id": "rmkYA5hoaHHC",
        "outputId": "fb16ed69-31d1-494e-fba2-8e4a7cb1465a"
      },
      "execution_count": 14,
      "outputs": [
        {
          "output_type": "stream",
          "name": "stdout",
          "text": [
            "0 1 2 3 4 5 6 7 8 9 10 "
          ]
        }
      ]
    },
    {
      "cell_type": "code",
      "source": [
        "for i in range(20,41,5):\n",
        "  print(i)\n",
        "  "
      ],
      "metadata": {
        "colab": {
          "base_uri": "https://localhost:8080/"
        },
        "id": "zeR48i4FaLFS",
        "outputId": "58575785-b3c3-4dc8-f300-303ff827fa39"
      },
      "execution_count": 15,
      "outputs": [
        {
          "output_type": "stream",
          "name": "stdout",
          "text": [
            "20\n",
            "25\n",
            "30\n",
            "35\n",
            "40\n"
          ]
        }
      ]
    },
    {
      "cell_type": "code",
      "source": [
        "for i in range(50,39,-2):\n",
        "  print(i)"
      ],
      "metadata": {
        "colab": {
          "base_uri": "https://localhost:8080/"
        },
        "id": "jbDO6vg1aPzR",
        "outputId": "e755528b-6d9e-428d-ffee-45ad61d060f7"
      },
      "execution_count": 16,
      "outputs": [
        {
          "output_type": "stream",
          "name": "stdout",
          "text": [
            "50\n",
            "48\n",
            "46\n",
            "44\n",
            "42\n",
            "40\n"
          ]
        }
      ]
    },
    {
      "cell_type": "code",
      "source": [
        "n=int(input('Qual tabuada você quer saber?\\n'))\n",
        "\n",
        "for i in range(11):\n",
        "  print(f'{n} x {i} = {n*i}')"
      ],
      "metadata": {
        "colab": {
          "base_uri": "https://localhost:8080/"
        },
        "id": "09X-9Fn5aThy",
        "outputId": "fc531caf-bf8f-4393-8021-83810d9dba38"
      },
      "execution_count": 17,
      "outputs": [
        {
          "output_type": "stream",
          "name": "stdout",
          "text": [
            "Qual tabuada você quer saber?\n",
            "2\n",
            "2 x 0 = 0\n",
            "2 x 1 = 2\n",
            "2 x 2 = 4\n",
            "2 x 3 = 6\n",
            "2 x 4 = 8\n",
            "2 x 5 = 10\n",
            "2 x 6 = 12\n",
            "2 x 7 = 14\n",
            "2 x 8 = 16\n",
            "2 x 9 = 18\n",
            "2 x 10 = 20\n"
          ]
        }
      ]
    },
    {
      "cell_type": "code",
      "source": [
        "cont=0\n",
        "for i in range(3):\n",
        "  preco=float(input('Qual o valor do produto X?\\n'))\n",
        "  if preco<80:\n",
        "    cont+=1\n",
        "\n",
        "print(f'{cont} pessoas pagaram menos do que R$80,00 no produto X')"
      ],
      "metadata": {
        "colab": {
          "base_uri": "https://localhost:8080/"
        },
        "id": "WDTYJRkNaouY",
        "outputId": "324f3e8d-9bc8-428a-8ac6-edbf8456375e"
      },
      "execution_count": 22,
      "outputs": [
        {
          "output_type": "stream",
          "name": "stdout",
          "text": [
            "Qual o valor do produto X?\n",
            "50\n",
            "Qual o valor do produto X?\n",
            "39\n",
            "Qual o valor do produto X?\n",
            "85\n",
            "2 pessoas pagaram menos do que R$80,00 no produto X\n"
          ]
        }
      ]
    },
    {
      "cell_type": "code",
      "source": [
        "acum=0\n",
        "for i in range(3):\n",
        "  alt=float(input('Qual a sua altura?\\n'))\n",
        "  acum+=alt\n",
        "\n",
        "med=acum/3\n",
        "print(f'Altura média da sala {med:.2f}')"
      ],
      "metadata": {
        "colab": {
          "base_uri": "https://localhost:8080/"
        },
        "id": "pr6eolWNcMD6",
        "outputId": "df22ab2c-e624-454b-f1f8-af3f95dc0f89"
      },
      "execution_count": 26,
      "outputs": [
        {
          "output_type": "stream",
          "name": "stdout",
          "text": [
            "Qual a sua altura?\n",
            "1.50\n",
            "Qual a sua altura?\n",
            "1.63\n",
            "Qual a sua altura?\n",
            "2.10\n",
            "Altura média da sala 1.74\n"
          ]
        }
      ]
    },
    {
      "cell_type": "code",
      "source": [
        "acum=0\n",
        "i=0\n",
        "while i<3:\n",
        "  n=int(input('Digite um número: '))\n",
        "  acum+=n ##acumulador\n",
        "  i+=1 #contador\n",
        "\n",
        "med=acum/3\n",
        "print(med)\n"
      ],
      "metadata": {
        "colab": {
          "base_uri": "https://localhost:8080/"
        },
        "id": "NBZPSwxjeF5e",
        "outputId": "780f78d7-07a7-4981-e7a7-05b6b3e0d4f3"
      },
      "execution_count": 27,
      "outputs": [
        {
          "output_type": "stream",
          "name": "stdout",
          "text": [
            "Digite um número: 10\n",
            "Digite um número: 20\n",
            "Digite um número: 10\n",
            "13.333333333333334\n"
          ]
        }
      ]
    },
    {
      "cell_type": "code",
      "source": [],
      "metadata": {
        "id": "OuZha3n1fYXF"
      },
      "execution_count": null,
      "outputs": []
    }
  ]
}